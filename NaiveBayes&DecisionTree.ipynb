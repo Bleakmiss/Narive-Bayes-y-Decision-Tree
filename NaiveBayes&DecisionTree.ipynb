{
  "nbformat": 4,
  "nbformat_minor": 0,
  "metadata": {
    "colab": {
      "name": "NaiveBayes&DecisionTree.ipynb",
      "provenance": [],
      "collapsed_sections": [],
      "authorship_tag": "ABX9TyNU8ghP5mFerl9HykWTpTzc",
      "include_colab_link": true
    },
    "kernelspec": {
      "name": "python3",
      "display_name": "Python 3"
    },
    "language_info": {
      "name": "python"
    }
  },
  "cells": [
    {
      "cell_type": "markdown",
      "metadata": {
        "id": "view-in-github",
        "colab_type": "text"
      },
      "source": [
        "<a href=\"https://colab.research.google.com/github/Bleakmiss/Narive-Bayes-y-Decision-Tree/blob/main/NaiveBayes%26DecisionTree.ipynb\" target=\"_parent\"><img src=\"https://colab.research.google.com/assets/colab-badge.svg\" alt=\"Open In Colab\"/></a>"
      ]
    },
    {
      "cell_type": "code",
      "metadata": {
        "id": "k3VhadDW2OGX"
      },
      "source": [
        "#Librerias utilizadas\n",
        "import numpy as np\n",
        "from sklearn.model_selection import train_test_split\n",
        "from sklearn import datasets\n",
        "from sklearn import svm\n",
        "from sklearn.preprocessing import StandardScaler\n",
        "from sklearn.preprocessing import MinMaxScaler\n",
        "from sklearn.naive_bayes import GaussianNB\n",
        "from sklearn.naive_bayes import CategoricalNB\n",
        "from sklearn.naive_bayes import BernoulliNB\n",
        "from sklearn.metrics import matthews_corrcoef\n",
        "from sklearn.metrics import f1_score\n",
        "from sklearn.metrics import accuracy_score\n",
        "from sklearn import tree\n",
        "from sklearn.tree import DecisionTreeClassifier"
      ],
      "execution_count": null,
      "outputs": []
    },
    {
      "cell_type": "markdown",
      "metadata": {
        "id": "p7NLBSeqCHBn"
      },
      "source": [
        "##Decision Tree\n"
      ]
    },
    {
      "cell_type": "code",
      "metadata": {
        "id": "7qN36EBV0tlX"
      },
      "source": [
        "## Lectura datos\n",
        "x,y = datasets.load_iris(return_X_y= True)"
      ],
      "execution_count": null,
      "outputs": []
    },
    {
      "cell_type": "code",
      "metadata": {
        "id": "xYrMbR1XCGMD",
        "colab": {
          "base_uri": "https://localhost:8080/"
        },
        "outputId": "e995c314-40e1-4ca6-eead-ab01149377a1"
      },
      "source": [
        "#Preprocesamiento datos\n",
        "sc= MinMaxScaler()\n",
        "sc.fit(x)\n",
        "x=sc.transform(x)\n",
        "X_train, X_test, y_train, y_test = train_test_split(x, y, test_size=0.25, random_state=0)\n",
        "##Decision tree\n",
        "clf = tree.DecisionTreeClassifier()\n",
        "clf.fit(X_train, y_train)\n",
        "y_predict_tree=clf.predict(X_test)\n",
        "\n",
        "print(\"Valores obtenidos de decision tree\")\n",
        "print(\"F1: {}\".format(f1_score(y_test,y_predict_tree,average='micro')))\n",
        "print(\"MCC: {}\".format(matthews_corrcoef(y_test,y_predict_tree)))\n",
        "print(\"Accuracy: {}\".format(accuracy_score(y_test, y_predict_tree)))"
      ],
      "execution_count": null,
      "outputs": [
        {
          "output_type": "stream",
          "name": "stdout",
          "text": [
            "Valores obtenidos de decision tree\n",
            "F1: 0.9736842105263158\n",
            "MCC: 0.9608244925752507\n",
            "Accuracy: 0.9736842105263158\n"
          ]
        }
      ]
    },
    {
      "cell_type": "code",
      "metadata": {
        "id": "NCNaV2r4CMRi",
        "colab": {
          "base_uri": "https://localhost:8080/"
        },
        "outputId": "fa48a8c9-93b2-4b1f-a418-83cd468b8f15"
      },
      "source": [
        "#Evalucion con metricas F1 y MCC\n",
        "MCC=[]\n",
        "depth=[]\n",
        "randoms=[]\n",
        "F1=[]\n",
        "for rand in range(50):\n",
        "  for dep in range(50):\n",
        "    decision_tree = DecisionTreeClassifier(random_state=0, max_depth=dep+1)\n",
        "    decision_tree.fit(X_train, y_train)\n",
        "    y_predict_tree=decision_tree.predict(X_test)\n",
        "    F1.append(f1_score(y_test,y_predict_tree,average='micro'))\n",
        "    MCC.append(matthews_corrcoef(y_test,y_predict_tree))\n",
        "    randoms.append(rand)\n",
        "    depth.append(dep)\n",
        "\n",
        "maxMCC = MCC.index(max(MCC))\n",
        "maxF1  = F1.index(max(F1))\n",
        "\n",
        "print(\"Segun la metrica F1({}), el mejor random es {} y el depth es {}\".format(max(F1),randoms[maxF1],depth[maxF1]+1))\n",
        "print(\"Segun la metrica MCC({}), el mejor random es {} y el depth es {}\".format(max(MCC),randoms[maxMCC],depth[maxMCC]+1))\n"
      ],
      "execution_count": null,
      "outputs": [
        {
          "output_type": "stream",
          "name": "stdout",
          "text": [
            "Segun la metrica F1(0.9736842105263158), el mejor random es 0 y el depth es 3\n",
            "Segun la metrica MCC(0.9608244925752507), el mejor random es 0 y el depth es 3\n"
          ]
        }
      ]
    },
    {
      "cell_type": "markdown",
      "metadata": {
        "id": "94mtoUIBCa3D"
      },
      "source": [
        "##Naive Bayes\n"
      ]
    },
    {
      "cell_type": "code",
      "metadata": {
        "id": "4tMZxsbYrkhN"
      },
      "source": [
        "## Lectura datos\n",
        "x,y = datasets.load_iris(return_X_y= True)"
      ],
      "execution_count": null,
      "outputs": []
    },
    {
      "cell_type": "code",
      "metadata": {
        "id": "EhXHcVYLM1ed",
        "colab": {
          "base_uri": "https://localhost:8080/"
        },
        "outputId": "f18e2612-713c-4474-dbc3-761d52be7abb"
      },
      "source": [
        "#Preprocesamiento datos\n",
        "sc= MinMaxScaler()\n",
        "sc.fit(x)\n",
        "x=sc.transform(x)\n",
        "X_train, X_test, y_train, y_test = train_test_split(x, y, test_size=0.25, random_state=0)\n",
        "\n",
        "#Naive Bayes\n",
        "NaiveBayes = GaussianNB()\n",
        "NaiveBayes.fit(X_train, y_train)\n",
        "y_predict = NaiveBayes.predict(X_test)\n",
        "\n",
        "print(\"Valores obtenidos de Naive Bayes\")\n",
        "print(\"MCC: {}\".format(matthews_corrcoef(y_test,y_predict)))\n",
        "print(\"F1: {}\".format(f1_score(y_test,y_predict,average='micro')))\n",
        "print(\"Accuracy: {}\".format(accuracy_score(y_test, y_predict)))"
      ],
      "execution_count": null,
      "outputs": [
        {
          "output_type": "stream",
          "name": "stdout",
          "text": [
            "Valores obtenidos de Naive Bayes\n",
            "MCC: 1.0\n",
            "F1: 1.0\n",
            "Accuracy: 1.0\n"
          ]
        }
      ]
    },
    {
      "cell_type": "code",
      "metadata": {
        "id": "10_wt_uOM3vE",
        "colab": {
          "base_uri": "https://localhost:8080/"
        },
        "outputId": "ea943a78-3718-40c4-d1bd-32fafaad7158"
      },
      "source": [
        "#Evalucion con metricas F1 y MCC\n",
        "MCC=[]\n",
        "F1=[]\n",
        "depth=[]\n",
        "for ii in range(1,40):\n",
        "  clf = BernoulliNB(alpha=i)\n",
        "  clf.fit(X_train, y_train)\n",
        "  y_predict = clf.predict(X_test)\n",
        "  F1.append(f1_score(y_test,y_predict,average='micro'))\n",
        "  MCC.append(matthews_corrcoef(y_test,y_predict))\n",
        "  depth.append(ii)\n",
        "\n",
        "maxMCC = MCC.index(max(MCC))\n",
        "maxF1  = F1.index(max(F1))\n",
        "print(\"Segun la metrica MCC({}), el mejor alpha es {}\".format(max(MCC),depth[maxMCC]))\n",
        "\n",
        "print(\"Segun la metrica F1({}), el mejor alpha es {}\".format(max(F1),depth[maxF1]))"
      ],
      "execution_count": null,
      "outputs": [
        {
          "output_type": "stream",
          "name": "stdout",
          "text": [
            "Segun la metrica MCC(0.1290510783886958), el mejor alpha es 1\n",
            "Segun la metrica F1(0.2631578947368421), el mejor alpha es 1\n"
          ]
        }
      ]
    }
  ]
}